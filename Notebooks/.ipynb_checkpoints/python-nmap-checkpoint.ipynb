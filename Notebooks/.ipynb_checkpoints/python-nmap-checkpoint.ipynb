{
 "cells": [
  {
   "cell_type": "markdown",
   "metadata": {},
   "source": [
    "# python-nmap"
   ]
  },
  {
   "cell_type": "code",
   "execution_count": 31,
   "metadata": {},
   "outputs": [],
   "source": [
    "import time\n",
    "import re\n",
    "import nmap"
   ]
  },
  {
   "cell_type": "code",
   "execution_count": 29,
   "metadata": {},
   "outputs": [],
   "source": [
    "hosts_ips = []\n",
    "with open('example_files/live_hosts_nmap.txt', 'r') as file_handler:\n",
    "    for line in file_handler:\n",
    "        if 'Host:' in line:\n",
    "            ip = re.search(r'(?<=Host:\\s).*(?=\\s\\()', line).group()\n",
    "            hosts_ips.append(ip)"
   ]
  },
  {
   "cell_type": "code",
   "execution_count": 30,
   "metadata": {},
   "outputs": [
    {
     "data": {
      "text/plain": [
       "['192.168.0.1',\n",
       " '192.168.0.2',\n",
       " '192.168.0.5',\n",
       " '192.168.0.10',\n",
       " '192.168.0.14',\n",
       " '192.168.0.15',\n",
       " '192.168.0.252']"
      ]
     },
     "execution_count": 30,
     "metadata": {},
     "output_type": "execute_result"
    }
   ],
   "source": [
    "hosts_ips"
   ]
  },
  {
   "cell_type": "code",
   "execution_count": 47,
   "metadata": {},
   "outputs": [],
   "source": [
    "\n",
    "nm = nmap.PortScanner()\n",
    "results = {}\n",
    "for ip in hosts_ips:\n",
    "    results[ip] = nm.scan(ip, '1-65536')\n",
    "print(\"--- {} seconds ---\".format(time.time() - start_time))\n",
    "print(\"--- {} mins ---\".format((time.time() - start_time)/60))   "
   ]
  },
  {
   "cell_type": "code",
   "execution_count": 56,
   "metadata": {},
   "outputs": [
    {
     "data": {
      "text/plain": [
       "{80: {'state': 'open',\n",
       "  'reason': 'syn-ack',\n",
       "  'name': 'http',\n",
       "  'product': 'Apache httpd',\n",
       "  'version': '2.4.25',\n",
       "  'extrainfo': '(Debian)',\n",
       "  'conf': '10',\n",
       "  'cpe': 'cpe:/a:apache:http_server:2.4.25'},\n",
       " 81: {'state': 'closed',\n",
       "  'reason': 'conn-refused',\n",
       "  'name': 'hosts2-ns',\n",
       "  'product': '',\n",
       "  'version': '',\n",
       "  'extrainfo': '',\n",
       "  'conf': '3',\n",
       "  'cpe': ''},\n",
       " 82: {'state': 'closed',\n",
       "  'reason': 'conn-refused',\n",
       "  'name': 'xfer',\n",
       "  'product': '',\n",
       "  'version': '',\n",
       "  'extrainfo': '',\n",
       "  'conf': '3',\n",
       "  'cpe': ''},\n",
       " 83: {'state': 'closed',\n",
       "  'reason': 'conn-refused',\n",
       "  'name': 'mit-ml-dev',\n",
       "  'product': '',\n",
       "  'version': '',\n",
       "  'extrainfo': '',\n",
       "  'conf': '3',\n",
       "  'cpe': ''},\n",
       " 84: {'state': 'closed',\n",
       "  'reason': 'conn-refused',\n",
       "  'name': 'ctf',\n",
       "  'product': '',\n",
       "  'version': '',\n",
       "  'extrainfo': '',\n",
       "  'conf': '3',\n",
       "  'cpe': ''},\n",
       " 85: {'state': 'closed',\n",
       "  'reason': 'conn-refused',\n",
       "  'name': 'mit-ml-dev',\n",
       "  'product': '',\n",
       "  'version': '',\n",
       "  'extrainfo': '',\n",
       "  'conf': '3',\n",
       "  'cpe': ''}}"
      ]
     },
     "execution_count": 56,
     "metadata": {},
     "output_type": "execute_result"
    }
   ],
   "source": []
  },
  {
   "cell_type": "code",
   "execution_count": 61,
   "metadata": {},
   "outputs": [
    {
     "name": "stdout",
     "output_type": "stream",
     "text": [
      "[+] Host: 192.168.0.1\n",
      "\t[!] Ports:\n",
      "\t\tPort: 80\n",
      "\t\t\tState: open\n",
      "\t\t\tService: http\n",
      "\t\t\tProduct: lighttpd\n",
      "\t\t\tVersion: \n",
      "\t\t\tInfo: \n",
      "\t\tPort: 81\n",
      "\t\t\tState: closed\n",
      "\t\t\tService: hosts2-ns\n",
      "\t\t\tProduct: \n",
      "\t\t\tVersion: \n",
      "\t\t\tInfo: \n",
      "\t\tPort: 82\n",
      "\t\t\tState: closed\n",
      "\t\t\tService: xfer\n",
      "\t\t\tProduct: \n",
      "\t\t\tVersion: \n",
      "\t\t\tInfo: \n",
      "\t\tPort: 83\n",
      "\t\t\tState: closed\n",
      "\t\t\tService: mit-ml-dev\n",
      "\t\t\tProduct: \n",
      "\t\t\tVersion: \n",
      "\t\t\tInfo: \n",
      "\t\tPort: 84\n",
      "\t\t\tState: closed\n",
      "\t\t\tService: ctf\n",
      "\t\t\tProduct: \n",
      "\t\t\tVersion: \n",
      "\t\t\tInfo: \n",
      "\t\tPort: 85\n",
      "\t\t\tState: closed\n",
      "\t\t\tService: mit-ml-dev\n",
      "\t\t\tProduct: \n",
      "\t\t\tVersion: \n",
      "\t\t\tInfo: \n",
      "[+] Host: 192.168.0.2\n",
      "\t[!] Ports:\n",
      "\t\tPort: 80\n",
      "\t\t\tState: open\n",
      "\t\t\tService: http\n",
      "\t\t\tProduct: Apache httpd\n",
      "\t\t\tVersion: 2.4.25\n",
      "\t\t\tInfo: (Debian)\n",
      "\t\tPort: 81\n",
      "\t\t\tState: closed\n",
      "\t\t\tService: hosts2-ns\n",
      "\t\t\tProduct: \n",
      "\t\t\tVersion: \n",
      "\t\t\tInfo: \n",
      "\t\tPort: 82\n",
      "\t\t\tState: closed\n",
      "\t\t\tService: xfer\n",
      "\t\t\tProduct: \n",
      "\t\t\tVersion: \n",
      "\t\t\tInfo: \n",
      "\t\tPort: 83\n",
      "\t\t\tState: closed\n",
      "\t\t\tService: mit-ml-dev\n",
      "\t\t\tProduct: \n",
      "\t\t\tVersion: \n",
      "\t\t\tInfo: \n",
      "\t\tPort: 84\n",
      "\t\t\tState: closed\n",
      "\t\t\tService: ctf\n",
      "\t\t\tProduct: \n",
      "\t\t\tVersion: \n",
      "\t\t\tInfo: \n",
      "\t\tPort: 85\n",
      "\t\t\tState: closed\n",
      "\t\t\tService: mit-ml-dev\n",
      "\t\t\tProduct: \n",
      "\t\t\tVersion: \n",
      "\t\t\tInfo: \n",
      "[+] Host: 192.168.0.5\n",
      "\t[!] Ports:\n"
     ]
    },
    {
     "ename": "KeyError",
     "evalue": "'192.168.0.5'",
     "output_type": "error",
     "traceback": [
      "\u001b[0;31m---------------------------------------------------------------------------\u001b[0m",
      "\u001b[0;31mKeyError\u001b[0m                                  Traceback (most recent call last)",
      "\u001b[0;32m<ipython-input-61-5fe5355fbfd6>\u001b[0m in \u001b[0;36m<module>\u001b[0;34m()\u001b[0m\n\u001b[1;32m      2\u001b[0m     \u001b[0mprint\u001b[0m\u001b[0;34m(\u001b[0m\u001b[0;34mf\"[+] Host: {ip}\"\u001b[0m\u001b[0;34m)\u001b[0m\u001b[0;34m\u001b[0m\u001b[0m\n\u001b[1;32m      3\u001b[0m     \u001b[0mprint\u001b[0m\u001b[0;34m(\u001b[0m\u001b[0;34mf\"\\t[!] Ports:\"\u001b[0m\u001b[0;34m)\u001b[0m\u001b[0;34m\u001b[0m\u001b[0m\n\u001b[0;32m----> 4\u001b[0;31m     \u001b[0;32mfor\u001b[0m \u001b[0mport\u001b[0m\u001b[0;34m,\u001b[0m \u001b[0mval\u001b[0m \u001b[0;32min\u001b[0m \u001b[0mresults\u001b[0m\u001b[0;34m[\u001b[0m\u001b[0mip\u001b[0m\u001b[0;34m]\u001b[0m\u001b[0;34m[\u001b[0m\u001b[0;34m'scan'\u001b[0m\u001b[0;34m]\u001b[0m\u001b[0;34m[\u001b[0m\u001b[0mip\u001b[0m\u001b[0;34m]\u001b[0m\u001b[0;34m[\u001b[0m\u001b[0;34m'tcp'\u001b[0m\u001b[0;34m]\u001b[0m\u001b[0;34m.\u001b[0m\u001b[0mitems\u001b[0m\u001b[0;34m(\u001b[0m\u001b[0;34m)\u001b[0m\u001b[0;34m:\u001b[0m\u001b[0;34m\u001b[0m\u001b[0m\n\u001b[0m\u001b[1;32m      5\u001b[0m         \u001b[0mprint\u001b[0m\u001b[0;34m(\u001b[0m\u001b[0;34mf\"\\t\\tPort: {port}\"\u001b[0m\u001b[0;34m)\u001b[0m\u001b[0;34m\u001b[0m\u001b[0m\n\u001b[1;32m      6\u001b[0m         \u001b[0mprint\u001b[0m\u001b[0;34m(\u001b[0m\u001b[0;34mf\"\\t\\t\\tState: {val['state']}\"\u001b[0m\u001b[0;34m)\u001b[0m\u001b[0;34m\u001b[0m\u001b[0m\n",
      "\u001b[0;31mKeyError\u001b[0m: '192.168.0.5'"
     ]
    }
   ],
   "source": [
    "for ip, scan_info in results.items():\n",
    "    print(f\"[+] Host: {ip}\")\n",
    "    print(f\"\\t[!] Ports:\")\n",
    "    for port, val in results[ip]['scan'][ip]['tcp'].items():\n",
    "        print(f\"\\t\\tPort: {port}\")\n",
    "        print(f\"\\t\\t\\tState: {val['state']}\")\n",
    "        print(f\"\\t\\t\\tService: {val['name']}\")\n",
    "        print(f\"\\t\\t\\tProduct: {val['product']}\")\n",
    "        print(f\"\\t\\t\\tVersion: {val['version']}\")\n",
    "        print(f\"\\t\\t\\tInfo: {val['extrainfo']}\")"
   ]
  },
  {
   "cell_type": "code",
   "execution_count": null,
   "metadata": {},
   "outputs": [],
   "source": []
  }
 ],
 "metadata": {
  "kernelspec": {
   "display_name": "Python 3",
   "language": "python",
   "name": "python3"
  },
  "language_info": {
   "codemirror_mode": {
    "name": "ipython",
    "version": 3
   },
   "file_extension": ".py",
   "mimetype": "text/x-python",
   "name": "python",
   "nbconvert_exporter": "python",
   "pygments_lexer": "ipython3",
   "version": "3.6.5"
  }
 },
 "nbformat": 4,
 "nbformat_minor": 2
}
